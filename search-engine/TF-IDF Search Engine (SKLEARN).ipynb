{
 "cells": [
  {
   "cell_type": "markdown",
   "metadata": {},
   "source": [
    "# Packages Needed\n",
    "1. Numpy\n",
    "2. Pandas\n",
    "3. Scikit-Learn"
   ]
  },
  {
   "cell_type": "markdown",
   "metadata": {},
   "source": [
    "# Download dataset from https://www.kaggle.com/mousehead/songlyrics"
   ]
  },
  {
   "cell_type": "markdown",
   "metadata": {},
   "source": [
    "# Import Packages"
   ]
  },
  {
   "cell_type": "code",
   "execution_count": 1,
   "metadata": {},
   "outputs": [],
   "source": [
    "import numpy as np\n",
    "import pandas as pd\n",
    "\n",
    "from sklearn.feature_extraction.text import TfidfVectorizer\n",
    "from sklearn.feature_extraction.text import CountVectorizer\n",
    "from sklearn.metrics.pairwise import cosine_similarity"
   ]
  },
  {
   "cell_type": "markdown",
   "metadata": {},
   "source": [
    "# Read Dataset"
   ]
  },
  {
   "cell_type": "code",
   "execution_count": 42,
   "metadata": {},
   "outputs": [
    {
     "name": "stderr",
     "output_type": "stream",
     "text": [
      "/Library/Frameworks/Python.framework/Versions/3.6/lib/python3.6/site-packages/IPython/core/interactiveshell.py:2785: DtypeWarning: Columns (3,4,5,6,7,8,9,10,11,12,13,14,15,16,17,18,19,20,21,22,23,24,26,29,31,36,39,40,41) have mixed types. Specify dtype option on import or set low_memory=False.\n",
      "  interactivity=interactivity, compiler=compiler, result=result)\n"
     ]
    },
    {
     "data": {
      "text/html": [
       "<div>\n",
       "<style scoped>\n",
       "    .dataframe tbody tr th:only-of-type {\n",
       "        vertical-align: middle;\n",
       "    }\n",
       "\n",
       "    .dataframe tbody tr th {\n",
       "        vertical-align: top;\n",
       "    }\n",
       "\n",
       "    .dataframe thead th {\n",
       "        text-align: right;\n",
       "    }\n",
       "</style>\n",
       "<table border=\"1\" class=\"dataframe\">\n",
       "  <thead>\n",
       "    <tr style=\"text-align: right;\">\n",
       "      <th></th>\n",
       "      <th>Quotes</th>\n",
       "      <th>Authors</th>\n",
       "      <th>Attributes</th>\n",
       "      <th>Unnamed: 3</th>\n",
       "      <th>Unnamed: 4</th>\n",
       "      <th>Unnamed: 5</th>\n",
       "      <th>Unnamed: 6</th>\n",
       "      <th>Unnamed: 7</th>\n",
       "      <th>Unnamed: 8</th>\n",
       "      <th>Unnamed: 9</th>\n",
       "      <th>...</th>\n",
       "      <th>Unnamed: 32</th>\n",
       "      <th>Unnamed: 33</th>\n",
       "      <th>Unnamed: 34</th>\n",
       "      <th>Unnamed: 35</th>\n",
       "      <th>Unnamed: 36</th>\n",
       "      <th>Unnamed: 37</th>\n",
       "      <th>Unnamed: 38</th>\n",
       "      <th>Unnamed: 39</th>\n",
       "      <th>Unnamed: 40</th>\n",
       "      <th>Unnamed: 41</th>\n",
       "    </tr>\n",
       "  </thead>\n",
       "  <tbody>\n",
       "    <tr>\n",
       "      <th>0</th>\n",
       "      <td>I'm selfish, impatient and a little insecure. ...</td>\n",
       "      <td>Marilyn Monroe</td>\n",
       "      <td>attributed-no-source, best, life, love, mistak...</td>\n",
       "      <td>NaN</td>\n",
       "      <td>NaN</td>\n",
       "      <td>NaN</td>\n",
       "      <td>NaN</td>\n",
       "      <td>NaN</td>\n",
       "      <td>NaN</td>\n",
       "      <td>NaN</td>\n",
       "      <td>...</td>\n",
       "      <td>NaN</td>\n",
       "      <td>NaN</td>\n",
       "      <td>NaN</td>\n",
       "      <td>NaN</td>\n",
       "      <td>NaN</td>\n",
       "      <td>NaN</td>\n",
       "      <td>NaN</td>\n",
       "      <td>NaN</td>\n",
       "      <td>NaN</td>\n",
       "      <td>NaN</td>\n",
       "    </tr>\n",
       "    <tr>\n",
       "      <th>1</th>\n",
       "      <td>You've gotta dance like there's nobody watchin...</td>\n",
       "      <td>William W. Purkey</td>\n",
       "      <td>dance, heaven, hurt, inspirational, life, love...</td>\n",
       "      <td>NaN</td>\n",
       "      <td>NaN</td>\n",
       "      <td>NaN</td>\n",
       "      <td>NaN</td>\n",
       "      <td>NaN</td>\n",
       "      <td>NaN</td>\n",
       "      <td>NaN</td>\n",
       "      <td>...</td>\n",
       "      <td>NaN</td>\n",
       "      <td>NaN</td>\n",
       "      <td>NaN</td>\n",
       "      <td>NaN</td>\n",
       "      <td>NaN</td>\n",
       "      <td>NaN</td>\n",
       "      <td>NaN</td>\n",
       "      <td>NaN</td>\n",
       "      <td>NaN</td>\n",
       "      <td>NaN</td>\n",
       "    </tr>\n",
       "    <tr>\n",
       "      <th>2</th>\n",
       "      <td>You know you're in love when you can't fall as...</td>\n",
       "      <td>Dr. Seuss</td>\n",
       "      <td>attributed-no-source, dreams, love, reality, s...</td>\n",
       "      <td>NaN</td>\n",
       "      <td>NaN</td>\n",
       "      <td>NaN</td>\n",
       "      <td>NaN</td>\n",
       "      <td>NaN</td>\n",
       "      <td>NaN</td>\n",
       "      <td>NaN</td>\n",
       "      <td>...</td>\n",
       "      <td>NaN</td>\n",
       "      <td>NaN</td>\n",
       "      <td>NaN</td>\n",
       "      <td>NaN</td>\n",
       "      <td>NaN</td>\n",
       "      <td>NaN</td>\n",
       "      <td>NaN</td>\n",
       "      <td>NaN</td>\n",
       "      <td>NaN</td>\n",
       "      <td>NaN</td>\n",
       "    </tr>\n",
       "    <tr>\n",
       "      <th>3</th>\n",
       "      <td>A friend is someone who knows all about you an...</td>\n",
       "      <td>Elbert Hubbard</td>\n",
       "      <td>friend, friendship, knowledge, love</td>\n",
       "      <td>NaN</td>\n",
       "      <td>NaN</td>\n",
       "      <td>NaN</td>\n",
       "      <td>NaN</td>\n",
       "      <td>NaN</td>\n",
       "      <td>NaN</td>\n",
       "      <td>NaN</td>\n",
       "      <td>...</td>\n",
       "      <td>NaN</td>\n",
       "      <td>NaN</td>\n",
       "      <td>NaN</td>\n",
       "      <td>NaN</td>\n",
       "      <td>NaN</td>\n",
       "      <td>NaN</td>\n",
       "      <td>NaN</td>\n",
       "      <td>NaN</td>\n",
       "      <td>NaN</td>\n",
       "      <td>NaN</td>\n",
       "    </tr>\n",
       "    <tr>\n",
       "      <th>4</th>\n",
       "      <td>Darkness cannot drive out darkness: only light...</td>\n",
       "      <td>Martin Luther King Jr., A Testament of Hope: T...</td>\n",
       "      <td>darkness, drive-out, hate, inspirational, ligh...</td>\n",
       "      <td>NaN</td>\n",
       "      <td>NaN</td>\n",
       "      <td>NaN</td>\n",
       "      <td>NaN</td>\n",
       "      <td>NaN</td>\n",
       "      <td>NaN</td>\n",
       "      <td>NaN</td>\n",
       "      <td>...</td>\n",
       "      <td>NaN</td>\n",
       "      <td>NaN</td>\n",
       "      <td>NaN</td>\n",
       "      <td>NaN</td>\n",
       "      <td>NaN</td>\n",
       "      <td>NaN</td>\n",
       "      <td>NaN</td>\n",
       "      <td>NaN</td>\n",
       "      <td>NaN</td>\n",
       "      <td>NaN</td>\n",
       "    </tr>\n",
       "  </tbody>\n",
       "</table>\n",
       "<p>5 rows × 42 columns</p>\n",
       "</div>"
      ],
      "text/plain": [
       "                                              Quotes  \\\n",
       "0  I'm selfish, impatient and a little insecure. ...   \n",
       "1  You've gotta dance like there's nobody watchin...   \n",
       "2  You know you're in love when you can't fall as...   \n",
       "3  A friend is someone who knows all about you an...   \n",
       "4  Darkness cannot drive out darkness: only light...   \n",
       "\n",
       "                                             Authors  \\\n",
       "0                                     Marilyn Monroe   \n",
       "1                                  William W. Purkey   \n",
       "2                                          Dr. Seuss   \n",
       "3                                     Elbert Hubbard   \n",
       "4  Martin Luther King Jr., A Testament of Hope: T...   \n",
       "\n",
       "                                          Attributes Unnamed: 3 Unnamed: 4  \\\n",
       "0  attributed-no-source, best, life, love, mistak...        NaN        NaN   \n",
       "1  dance, heaven, hurt, inspirational, life, love...        NaN        NaN   \n",
       "2  attributed-no-source, dreams, love, reality, s...        NaN        NaN   \n",
       "3                friend, friendship, knowledge, love        NaN        NaN   \n",
       "4  darkness, drive-out, hate, inspirational, ligh...        NaN        NaN   \n",
       "\n",
       "  Unnamed: 5 Unnamed: 6 Unnamed: 7 Unnamed: 8 Unnamed: 9     ...      \\\n",
       "0        NaN        NaN        NaN        NaN        NaN     ...       \n",
       "1        NaN        NaN        NaN        NaN        NaN     ...       \n",
       "2        NaN        NaN        NaN        NaN        NaN     ...       \n",
       "3        NaN        NaN        NaN        NaN        NaN     ...       \n",
       "4        NaN        NaN        NaN        NaN        NaN     ...       \n",
       "\n",
       "  Unnamed: 32 Unnamed: 33 Unnamed: 34 Unnamed: 35 Unnamed: 36 Unnamed: 37  \\\n",
       "0         NaN         NaN         NaN         NaN         NaN         NaN   \n",
       "1         NaN         NaN         NaN         NaN         NaN         NaN   \n",
       "2         NaN         NaN         NaN         NaN         NaN         NaN   \n",
       "3         NaN         NaN         NaN         NaN         NaN         NaN   \n",
       "4         NaN         NaN         NaN         NaN         NaN         NaN   \n",
       "\n",
       "  Unnamed: 38 Unnamed: 39 Unnamed: 40 Unnamed: 41  \n",
       "0         NaN         NaN         NaN         NaN  \n",
       "1         NaN         NaN         NaN         NaN  \n",
       "2         NaN         NaN         NaN         NaN  \n",
       "3         NaN         NaN         NaN         NaN  \n",
       "4         NaN         NaN         NaN         NaN  \n",
       "\n",
       "[5 rows x 42 columns]"
      ]
     },
     "execution_count": 42,
     "metadata": {},
     "output_type": "execute_result"
    }
   ],
   "source": [
    "#df = pd.read_csv('motivational_quotes_database.csv')\n",
    "df = pd.read_csv('quotes_dataset_title.csv')\n",
    "df.head()"
   ]
  },
  {
   "cell_type": "markdown",
   "metadata": {},
   "source": [
    "# TF-IDF Search Engine"
   ]
  },
  {
   "cell_type": "code",
   "execution_count": 43,
   "metadata": {},
   "outputs": [],
   "source": [
    "# Get tf-idf matrix using fit_transform function\n",
    "vectorizer = TfidfVectorizer()"
   ]
  },
  {
   "cell_type": "code",
   "execution_count": 44,
   "metadata": {},
   "outputs": [
    {
     "name": "stdout",
     "output_type": "stream",
     "text": [
      "(499709, 159263)\n",
      "CPU times: user 23.6 s, sys: 7.65 s, total: 31.3 s\n",
      "Wall time: 33.2 s\n"
     ]
    }
   ],
   "source": [
    "%%time\n",
    "X = vectorizer.fit_transform(df['Quotes'].values.astype('U')) # Store tf-idf representations of all docs\n",
    "print(X.shape) # (Number of songs, Number of unique words)"
   ]
  },
  {
   "cell_type": "markdown",
   "metadata": {},
   "source": [
    "# Query Processing"
   ]
  },
  {
   "cell_type": "code",
   "execution_count": 49,
   "metadata": {},
   "outputs": [],
   "source": [
    "query = \"action\""
   ]
  },
  {
   "cell_type": "code",
   "execution_count": 50,
   "metadata": {},
   "outputs": [
    {
     "name": "stdout",
     "output_type": "stream",
     "text": [
      "CPU times: user 202 ms, sys: 13.6 ms, total: 215 ms\n",
      "Wall time: 213 ms\n"
     ]
    }
   ],
   "source": [
    "%%time\n",
    "query_vec = vectorizer.transform([query]) # Ip -- (n_docs,x), Op -- (n_docs,n_Feats)\n",
    "results = cosine_similarity(X,query_vec).reshape((-1,)) # Op -- (n_docs,1) -- Cosine Sim with each doc"
   ]
  },
  {
   "cell_type": "markdown",
   "metadata": {},
   "source": [
    "# Print Results"
   ]
  },
  {
   "cell_type": "code",
   "execution_count": 51,
   "metadata": {},
   "outputs": [
    {
     "name": "stdout",
     "output_type": "stream",
     "text": [
      "Any action is good action --  do what you can from where you are and build off of that action each day.\n",
      "A static action is never an action. A real action is an action in motion! Dare to do something! -- Ernest Agyemang Yeboah\n",
      "When the situation demands action, know the end of the action before you start the action -- Ernest Agyemang Yeboah\n",
      "In action is the worst action of human beings! -- Mehmet Murat ildan\n",
      "Poetry is a call to action, and it also is action. -- Juan Felipe Herrera\n",
      "Happiness is action. -- David Thomas\n",
      "Every action (‘doing’) causes bondage. ‘Doing’ is not needed for Liberation. For liberation, ‘action’ of Knowledge is required. Action of ignorance [of the self] is bondage. Action done with egoism is known as ignorant-action and the action done without egoism is known as knowledge-action. -- Dada Bhagwan\n",
      "Action is a great restorer and builder of confidence. Inaction is not only the result, but the cause, of fear. Perhaps the action you take will be successful; perhaps different action or adjustments will have to follow. But any action is better than no action at all. -- Norman Vincent Peale\n",
      "The end of man is action. -- Thomas Carlyle\n",
      "Your decisions are the A.I.R. (Action, Impact, and Result) or the breath of life you take each day to live. Each decision is made from your action, the impact of the action, and the results of that action. -- Thomas Narofsky, You are Unstoppable Participant's Guide: Unleash Your Inspired Life\n",
      "Do something. Successful achievers wake up in the morning and go to bed in the night. In between their waking up and going to bed is occupied with action, action, action and action. -- Israelmore Ayivor, Shaping the dream\n",
      "Morality existed only in action. It arose out of action: was formed and tested in action: expressed itself in action. That was why we mustn't cheapen it with words -- C.P. Snow, The Sleep of Reason\n",
      "Inspired action is when you take action with no mind. Pure silence. -- Matthew Donnelly\n",
      "The happiness of love is in action --  its test is what one is willing to do for others.\n",
      "Thoughts become things through action. The most powerful tool for creating changes in your life is attention and action. No action means no creation. -- Ilchi Lee, Change: Realizing Your Greatest Potential\n",
      "The key to success is action, and the essential in action is perseverance. -- Sun Yat-sen\n",
      "Respect is love in action -- Bangambiki Habyarimana, Pearls Of Eternity\n",
      "Action may not bring happiness but there is no happiness without action. -- William James\n",
      "Commitment leads to action. Action brings your dream closer. -- Marcia Wieder\n",
      "Karma, simply put, is an action for an action ... good or bad. -- Stephen Richards\n",
      "Action may not always bring happiness  but there is no happiness without action. -- William James\n",
      "Action may not always bring happiness but there is no happiness without action. -- Benjamin Disraeli\n",
      "Action may not always bring happiness  but there is no happiness without action. -- William James\n",
      "Action may not always bring happiness, but there is no happiness without action.  -- William James\n",
      "Can an absence of action be construed as a negative action? -- Tamar Cohen, The Mistress's Revenge\n",
      "A good action is never lost --  it is a treasure laid up and guarded for the doer’s need. \n",
      "I am love and light in action. -- Jodi Livon\n",
      "Hope lies in action -- Dean Koontz, False Memory\n",
      "Courage comes with action. -- Gail Blanke, Throw Out Fifty Things: Clear the Clutter, Find Your Life\n",
      "Your action is your lot. -- Lailah Gifty Akita\n",
      "I have found that there is a difference in the type of action you take and the results that you receive. My definition of action that gets the results you desire – is relaxed inspired action- not desperate action or desperate reaction. -- Sheri Kaye Hoff, Relax Into Inspired Action: Connect the Pieces and Live Fulfilled\n",
      "Trust is the action of faith. -- Gerard de Marigny, New Detroit\n",
      "Words are free, action is not. -- Murad S. Shah\n",
      "Every book is a great action and every great action is a book! -- Martin Luther\n",
      "No hope  no action. -- Peter Levi\n",
      "Suit the action to the word, theWord to the action. -- William Shakespeare, Hamlet\n",
      "Knowledge kills action action requires the veils of illusion.  -- Friedrich Nietzsche, The Birth of Tragedy\n",
      "Justice is truth in action. -- Benjamin Disraeli\n",
      "Vision without action is merely a dream. Action without vision just passes the time. Vision with action can change the world. -- Joel A. Barker\n",
      "Nothing happens without action! -- John Patrick Hickey\n",
      "A lot of action movies today seem to have scenes that just lead up to the action. -- Jason Statham\n",
      "Faith is the force of action. -- Lailah Gifty Akita\n",
      "To achieve something, action is needed; but thoughtful and calculated action is better. -- Innocent Mwatsikesimbe, The Vision\n",
      "Justice is the truth in action. -- Joseph Joubert\n",
      "Courage is action, not talk. -- Jeff Rich\n",
      "Your life will be simplified when you choose inaction when no action is required and choose action when action is required! -- Mehmet Murat ildan\n",
      "God doesn't want meerly action but hearts driving action. -- Matt      Chandler\n",
      "Practice is the process of moving conscious action into subconscious and unconscious action. -- Ted Agon, The Human Key Condensed\n",
      "My action is my prayer. -- Amit Kalantri\n",
      "Act as if' means to apply action. 'Faking it' means to be fraudulent. Don't miss construe the two. 'Acting as if' means you are asserting yourself in an action that will manifest in time, action and belief. Action equal outcome. -- Machel Shull, HAPPY SOUL: 10 Steps to Happiness\n",
      "Action is the mother of creation. -- Tatjana Urbic\n",
      "Doing nothing is also an action --  not making a decision is making a decision.\n",
      "Love is an active action. -- Lailah Gifty Akita, Pearls of  Wisdom: Great  mind\n",
      "Meaning can be found in action. -- Andy Harglesis\n",
      "Don't mistake thinking for action & don't mistake action for results. -- Orrin Woodward\n",
      "Without knowledge action is useless and knowledge without action is futile. -- Abu Bakr\n",
      "There is grace for every good action. -- Lailah Gifty Akita\n",
      "There is often, in the affairs of government, more efficiency and wisdom in non-action than in action. -- John C. Calhoun\n",
      "Success is a result not an action. -- Mensah Oteh\n",
      "Anger is action without thoughts. -- Michael Bassey Johnson\n"
     ]
    }
   ],
   "source": [
    "# Print Top 10 results\n",
    "for i in results.argsort()[-60:][::-1]:\n",
    "    print(df.iloc[i,0],\"--\",df.iloc[i,1])"
   ]
  },
  {
   "cell_type": "markdown",
   "metadata": {},
   "source": [
    "# Search the author"
   ]
  },
  {
   "cell_type": "code",
   "execution_count": 25,
   "metadata": {},
   "outputs": [],
   "source": [
    "# Get tf-idf matrix using fit_transform function\n",
    "vectorizer = TfidfVectorizer()"
   ]
  },
  {
   "cell_type": "code",
   "execution_count": 26,
   "metadata": {},
   "outputs": [
    {
     "name": "stdout",
     "output_type": "stream",
     "text": [
      "(45575, 8565)\n",
      "CPU times: user 248 ms, sys: 7.2 ms, total: 255 ms\n",
      "Wall time: 257 ms\n"
     ]
    }
   ],
   "source": [
    "%%time\n",
    "X = vectorizer.fit_transform(df['Author'].values.astype('U')) # Store tf-idf representations of all docs\n",
    "print(X.shape) # (Number of songs, Number of unique words)"
   ]
  },
  {
   "cell_type": "code",
   "execution_count": 30,
   "metadata": {},
   "outputs": [],
   "source": [
    "query = \"Mark Twain\""
   ]
  },
  {
   "cell_type": "code",
   "execution_count": 31,
   "metadata": {},
   "outputs": [
    {
     "name": "stdout",
     "output_type": "stream",
     "text": [
      "CPU times: user 3.62 ms, sys: 941 µs, total: 4.56 ms\n",
      "Wall time: 3.57 ms\n"
     ]
    }
   ],
   "source": [
    "%%time\n",
    "query_vec = vectorizer.transform([query]) # Ip -- (n_docs,x), Op -- (n_docs,n_Feats)\n",
    "results = cosine_similarity(X,query_vec).reshape((-1,)) # Op -- (n_docs,1) -- Cosine Sim with each doc"
   ]
  },
  {
   "cell_type": "code",
   "execution_count": 35,
   "metadata": {},
   "outputs": [
    {
     "name": "stdout",
     "output_type": "stream",
     "text": [
      "Age is an issue of mind over matter. If you don't mind, it doesn't matter. -- Mark Twain\n",
      "The tragedy of old age is not that one is old, but that one is young. -- Twain, Mark\n",
      "A man's character may be learned from the adjectives which he habitually uses in conversation. -- Mark Twain\n",
      "Prophesy is a good line of business, but it is full of risks. -- Mark Twain\n",
      "It's good sportsmanship to not pick up lost golf balls while they are still rolling. -- Mark Twain\n",
      "Golf is a good walk spoiled. -- Mark Twain\n",
      "In the first place, God made idiots. That was for practice. Then he made school boards. -- Mark Twain\n",
      "When we remember we are all mad, the mysteries disappear and life stands explained. -- Mark Twain\n",
      "There has never been an intelligent person of the age of sixty who would consent to live his life over again. His or anyone else -- Twain, Mark\n",
      "Good friends, good books and a sleepy conscience: this is the ideal life. -- Mark Twain\n",
      "The man who sets out to carry a cat by its tail learns something that will always be useful and which never will grow dim or doubtful. -- Twain, Mark\n",
      "If man could be crossed with the cat, it would improve man but deteriorate the cat. -- Twain, Mark\n",
      "We should be careful to get out of an experience only the wisdom that is in it and stop there; lest we be like the cat that sits down on a hot stove lid. She will never sit on a hot stove lid again and that is well; but also she will never sit down on a cold one anymore. -- Twain, Mark\n",
      "Man is the only man that blushes. Or needs to.  -- Twain, Mark\n",
      "A round man cannot be expected to fit in a square hole right away. He must have time to modify his shape.  -- Twain, Mark\n",
      "Courage is resistance to fear, mastery of fear, not absence of fear. -- Twain, Mark\n",
      "Don't let schooling interfere with your education. -- Mark Twain\n",
      "It is curious that physical courage should be so common in the world and moral courage so rare. -- Mark Twain\n",
      "Courage is resistance to fear, mastery of fear, not absence of fear. -- Mark Twain\n",
      "The very ink with which history is written is merely fluid prejudice. -- Mark Twain\n",
      "What a good thing Adam had. When he said a good thing he knew nobody had said it before. -- Mark Twain\n",
      "Only one thing is impossible for God: To find any sense in any copyright law on the planet. -- Mark Twain\n",
      "The secret source of humor is not joy but sorrow there is no humor in Heaven. -- Mark Twain\n",
      "Everything human is pathetic. The secret source of humor itself is not joy but sorrow. There is no humor in heaven. -- Mark Twain\n",
      "Humor is mankind's greatest blessing. -- Mark Twain\n",
      "Laws control the lesser man... Right conduct controls the greater one. -- Mark Twain\n",
      "Soap and education are not as sudden as a massacre, but they are more deadly in the long run. -- Mark Twain\n",
      "Good friends, good books and a sleepy conscience: this is the ideal life. -- Mark Twain\n",
      "I never let schooling interfere with my education. -- Mark Twain\n",
      "I have never let my schooling interfere with my education. -- Mark Twain\n",
      "Education consists mainly of what we have unlearned. -- Mark Twain\n",
      "Cauliflower is nothing but cabbage with a college education. -- Mark Twain\n",
      "Forgiveness is the fragrance that the violet sheds on the heel that has crushed it. -- Mark Twain\n",
      "I've never let my school interfere with my education. -- Mark Twain\n",
      "I have never let my schooling interfere with my education. -- Twain, Mark\n",
      "Training is everything. The peach was once a bitter almond; cauliflower is nothing but cabbage with a college education. -- Twain, Mark\n",
      "We should be careful to get out of an experience only the wisdom that is in it?and stop there; lest we be like the cat that sits down on a hot stove-lid. She will never sit down on a hot stove-lid again?and that is well; but also she will never sit down on a cold one anymore. -- Twain, Mark\n",
      "Wit is the sudden marriage of ideas which before their union were not perceived to have any relation. -- Twain, Mark\n",
      "I don't know of a single foreign product that enters this country untax -- Twain, Mark\n",
      "There are several good protections against temptation, but the surest is cowardice. -- Twain, Mark\n",
      "Truth is the most valuable thing we have. Let us economize it. -- Twain, Mark\n",
      "In Boston they ask, how much does he know? In New York, how much is he worth? In Philadelphia, who were his parents? -- Twain, Mark\n",
      "There is an old-time toast which is golden for its beauty. \"When you ascend the hill of prosperity may you not meet a friend. -- Twain, Mark\n",
      "Prosperity is the surest breeder of insolence I know. -- Twain, Mark\n",
      "Thunder is good, thunder is impressive but it is lightning that does the work. -- Mark Twain\n",
      "Good breeding consists in concealing how much we think of ourselves and how little we think of the other person. -- Twain, Mark\n",
      "Good breeding consists in concealing how much we think of ourselves and how little we think of the other person. -- Mark Twain\n",
      "The man who does not read good books has no advantage over the man who cannot read them. -- Mark Twain\n",
      "Few things are harder to put up with than the annoyance of a good example. -- Mark Twain\n",
      "It usually takes me more than three weeks to prepare a good impromptu speech. -- Mark Twain\n",
      "There are several good protections against temptation, but the surest is cowardice. -- Mark Twain\n",
      "To be good is noble but to show others how to be good is nobler and no trouble. -- Mark Twain\n",
      "There is no use in your walking five miles to fish when you can depend on being just as unsuccessful near home. -- Twain, Mark\n",
      "All you need in this life is ignorance and confidence, and then Success is sure. -- Twain, Mark\n",
      "The educated Southerner has no use for an 'R', except at the beginning of a word. -- Twain, Mark\n",
      "To promise not to do a thing is the surest way in the world to make a body want to go and do that very thing. -- Twain, Mark\n",
      "What a good thing Adam had. When he said a good thing, he knew nobody had said it before. -- Twain, Mark\n",
      "Morals are an acquirement - like music, like a foreign language, like piety, poker, paralysis - no man is born with them. -- Twain, Mark\n",
      "Love seems the swiftest, but it is the slowest of all growths. No man or woman really knows what perfect love is until they have been married a quarter of a century. -- Twain, Mark\n",
      "We Americans... bear the ark of liberties of the world. -- Twain, Mark\n",
      "It could probably be shown by facts and figures that there is no distinctly native criminal class except Congress. -- Twain, Mark\n",
      "It is better to deserve honors and not have them than to have them and not deserve them. -- Twain, Mark\n",
      "When in doubt tell the truth. -- Twain, Mark\n",
      "There are people who can do all fine and heroic things but one - keep from telling their happiness to the unhappy.  -- Twain, Mark\n",
      "The kingly office is entitled to no respect. It was originally procured by the highwayman's methods; it remains a perpetuated crime, can never be anything but the symbol of a crime. It is no more entitled to respect than is the flag of a pirate. -- Twain, Mark\n",
      "Life would be infinitely happier if we could only be born at the age of eighty and gradually approach eighteen. -- Mark Twain\n",
      "The holy passion of Friendship is of so sweet and steady and loyal and enduring a nature that it will last through a whole lifetime, if not asked to lend money. -- Twain, Mark\n",
      "There are people who can do all fine and heroic things but one - keep from telling their happiness to the unhappy. -- Mark Twain\n",
      "My mother had a great deal of trouble with me, but I think she enjoyed it. -- Mark Twain\n",
      "I can live for two months on a good compliment. -- Mark Twain\n",
      "Prophesy is a good line of business, but it is full of risks. -- Mark Twain\n",
      "We have the best government that money can buy. -- Mark Twain\n",
      "Honesty is the best policy - when there is money in it. -- Mark Twain\n",
      "Do the thing you fear most and the death of fear is certain. -- Mark Twain\n",
      "The fear of death follows from the fear of life. A man who lives fully is prepared to die at any time. -- Mark Twain\n",
      "Courage is resistance to fear, mastery of fear, not absence of fear. -- Mark Twain\n",
      "Anger is an acid that can do more harm to the vessel in which it is stored than to anything on which it is poured. -- Mark Twain\n",
      "It usually takes me more than three weeks to prepare a good impromptu speech. -- Mark Twain\n",
      "When angry, count to four when very angry, swear. -- Mark Twain\n",
      "We have the best government that money can buy. -- Mark Twain\n",
      "If it's your job to eat a frog, it's best to do it first thing in the morning. And If it's your job to eat two frogs, it's best to eat the biggest one first. -- Mark Twain\n",
      "In the first place, God made idiots. That was for practice. Then he made school boards. -- Mark Twain\n",
      "We have the best government that money can buy. -- Mark Twain\n",
      "Whenever you find yourself on the side of the majority, it is time to pause and reflect. -- Mark Twain\n",
      "It is not best that we should all think alike it is a difference of opinion that makes horse races. -- Mark Twain\n",
      "All generalizations are false, including this one. -- Mark Twain\n",
      "Prosperity is the best protector of principle. -- Mark Twain\n",
      "Lord save us all from a hope tree that has lost the faculty of putting out blossoms. -- Mark Twain\n",
      "You can't depend on your eyes when your imagination is out of focus. -- Mark Twain\n",
      "Loyalty to the country always. Loyalty to the government when it deserves it. -- Mark Twain\n",
      "Get your facts first, then you can distort them as you please. -- Mark Twain\n",
      "Patriotism is supporting your country all the time, and your government when it deserves it. -- Mark Twain\n",
      "I didn't attend the funeral, but I sent a nice letter saying I approved of it. -- Mark Twain\n",
      "Go to Heaven for the climate, Hell for the company. -- Mark Twain\n",
      "When you fish for love, bait with your heart, not your brain. -- Mark Twain\n",
      "Wit is the sudden marriage of ideas which before their union were not perceived to have any relation. -- Mark Twain\n",
      "Honesty is the best policy - when there is money in it. -- Mark Twain\n",
      "Part of the secret of a success in life is to eat what you like and let the food fight it out inside. -- Mark Twain\n",
      "The fear of death follows from the fear of life. A man who lives fully is prepared to die at any time. -- Mark Twain\n",
      "My books are like water those of the great geniuses are wine. (Fortunately) everybody drinks water. -- Mark Twain\n"
     ]
    }
   ],
   "source": [
    "# Print Top 10 results\n",
    "for i in results.argsort()[-100:][::-1]:\n",
    "    print(df.iloc[i,0],\"--\",df.iloc[i,1])"
   ]
  },
  {
   "cell_type": "markdown",
   "metadata": {},
   "source": [
    "# Song search"
   ]
  },
  {
   "cell_type": "code",
   "execution_count": null,
   "metadata": {},
   "outputs": [],
   "source": [
    "df = pd.read_csv('songdata.csv')\n",
    "df.head()\n",
    "# Get tf-idf matrix using fit_transform function\n",
    "vectorizer = TfidfVectorizer()\n",
    "%%time\n",
    "X = vectorizer.fit_transform(df['text']) # Store tf-idf representations of all docs\n",
    "print(X.shape) # (Number of songs, Number of unique words)"
   ]
  }
 ],
 "metadata": {
  "kernelspec": {
   "display_name": "Python 3",
   "language": "python",
   "name": "python3"
  },
  "language_info": {
   "codemirror_mode": {
    "name": "ipython",
    "version": 3
   },
   "file_extension": ".py",
   "mimetype": "text/x-python",
   "name": "python",
   "nbconvert_exporter": "python",
   "pygments_lexer": "ipython3",
   "version": "3.6.2"
  }
 },
 "nbformat": 4,
 "nbformat_minor": 2
}
